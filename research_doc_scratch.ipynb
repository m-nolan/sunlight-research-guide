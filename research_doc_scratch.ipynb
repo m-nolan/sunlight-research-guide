{
 "cells": [
  {
   "cell_type": "code",
   "execution_count": 1,
   "metadata": {},
   "outputs": [],
   "source": [
    "import pandas as pd"
   ]
  },
  {
   "cell_type": "code",
   "execution_count": 2,
   "metadata": {},
   "outputs": [],
   "source": [
    "data_file = './4. Research Guide.xlsx'\n",
    "research_df = pd.read_excel(data_file)"
   ]
  },
  {
   "cell_type": "code",
   "execution_count": 3,
   "metadata": {},
   "outputs": [],
   "source": [
    "iter_obj = research_df.sort_values('Resource').iterrows()\n",
    "row = next(iter_obj)"
   ]
  },
  {
   "cell_type": "code",
   "execution_count": 11,
   "metadata": {},
   "outputs": [
    {
     "data": {
      "text/plain": [
       "Category                                      Media and Other Open Sources\n",
       "Resource                                           Aircraft Photo Websites\n",
       "Use This Resource To:    Personal Finances\\n\\n - Identify aircraft owne...\n",
       "Description              Planespotting enthusiasts take photos of airpl...\n",
       "Link                                            JetPhotos\\nPlaneSpotters\\n\n",
       "Search Terms                                                           NaN\n",
       "Date Completed                                                         NaN\n",
       "Research Notes                                                         NaN\n",
       "Name: 54, dtype: object"
      ]
     },
     "execution_count": 11,
     "metadata": {},
     "output_type": "execute_result"
    }
   ],
   "source": [
    "row[1]"
   ]
  },
  {
   "cell_type": "code",
   "execution_count": 41,
   "metadata": {},
   "outputs": [],
   "source": [
    "with open('research-guide.txt','w') as f:\n",
    "    for o_idx, row in research_df.sort_values('Resource').iterrows():        \n",
    "        print(f'## {row.Resource}',file=f)\n",
    "        if isinstance(row.Link,str):\n",
    "            link_list = [r for r in row.Link.split('\\n') if len(r) > 0]\n",
    "            print(f\"Links:\\n\",file=f)\n",
    "            for link in link_list:\n",
    "                print(f'- {link}',file=f)\n",
    "            print('\\n',file=f)\n",
    "        print(f'Description: {row.Description}\\n',file=f)\n",
    "        print(f'Uses:\\n{row[\"Use This Resource To:\"]}',file=f)\n",
    "        print('\\n',file=f)"
   ]
  },
  {
   "cell_type": "code",
   "execution_count": 40,
   "metadata": {},
   "outputs": [
    {
     "data": {
      "text/plain": [
       "0                      https://tloxp.tlo.com/login\n",
       "1     https://www.signalhire.com/login?utm_block=1\n",
       "2             Will vary depending on jurisdiction.\n",
       "3             Will vary depending on jurisdiction.\n",
       "4             Will vary depending on jurisdiction.\n",
       "                          ...                     \n",
       "68                        https://www.youtube.com/\n",
       "69     https://projects.propublica.org/politwoops/\n",
       "70                                             NaN\n",
       "71                                    Pimeyes.com \n",
       "72                                Offline Resource\n",
       "Name: Link, Length: 73, dtype: object"
      ]
     },
     "execution_count": 40,
     "metadata": {},
     "output_type": "execute_result"
    }
   ],
   "source": [
    "research_df['Link']"
   ]
  },
  {
   "cell_type": "code",
   "execution_count": null,
   "metadata": {},
   "outputs": [],
   "source": []
  }
 ],
 "metadata": {
  "kernelspec": {
   "display_name": "data_rep",
   "language": "python",
   "name": "python3"
  },
  "language_info": {
   "codemirror_mode": {
    "name": "ipython",
    "version": 3
   },
   "file_extension": ".py",
   "mimetype": "text/x-python",
   "name": "python",
   "nbconvert_exporter": "python",
   "pygments_lexer": "ipython3",
   "version": "3.10.14"
  }
 },
 "nbformat": 4,
 "nbformat_minor": 2
}
